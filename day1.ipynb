{
 "cells": [
  {
   "cell_type": "markdown",
   "id": "c7aa4227",
   "metadata": {},
   "source": [
    "# Basic Python for epidemiologists\n",
    "\n",
    "## 1. Variable\n",
    "\n",
    "Variable หรือ ตัวแปร คือสิ่งที่คอมพิวเตอร์ใช้ในการเก็บข้อมูล เพื่อให้สามารถนำมาเรียกใช้ในภายหลังได้\n",
    "\n",
    "การสร้างตัวแปร ทำได้ด้วยการตั้งชื่อตัวแปร (เป็นตัวอักษรภาษาอังกฤษ) และ กำหนดข้อมูลที่จะเก็บในตัวแปรนั้น\n",
    "\n",
    "ชื่อตัวแปร = ข้อมูลที่จะเก็บ"
   ]
  },
  {
   "cell_type": "markdown",
   "id": "681630fc",
   "metadata": {},
   "source": [
    ">เก็บค่า 1 ไว้ในตัวแปรชื่อว่า variable"
   ]
  },
  {
   "cell_type": "code",
   "execution_count": null,
   "id": "524eb720",
   "metadata": {},
   "outputs": [],
   "source": [
    "variable = 1\n",
    "variable"
   ]
  },
  {
   "cell_type": "markdown",
   "id": "a73fc83e",
   "metadata": {},
   "source": [
    "> เก็บคำว่า \"INCD\" ไว้ในตัวแปรชื่อว่า doe"
   ]
  },
  {
   "cell_type": "code",
   "execution_count": null,
   "id": "ff6e43c0",
   "metadata": {},
   "outputs": [],
   "source": [
    "doe = \"INCD\"\n",
    "doe"
   ]
  },
  {
   "cell_type": "markdown",
   "id": "9c32d7f7",
   "metadata": {},
   "source": [
    "## 2. ชนิดข้อมูลพื้นฐาน และตัวดำเนินการ "
   ]
  },
  {
   "cell_type": "markdown",
   "id": "6e53b3cc",
   "metadata": {},
   "source": [
    "ภาษา Python มีชนิดข้อมูลพื้นฐาน ได้แก่\n",
    "- ตัวเลขจำนวนเต็ม Integer (int)\n",
    "- ตัวเลขจุดทศนิยม Floating number (float)\n",
    "- ข้อความ String (str)\n",
    "- ค่าทางตรรกศาสตร์ Boolean (bool)"
   ]
  },
  {
   "cell_type": "markdown",
   "id": "51addfb0",
   "metadata": {},
   "source": [
    "#### ตัวเลขจำนวนเต็ม (Integer)\n",
    "\n",
    "คือตัวเลขที่ไม่มีจุดทศนิยม เป็นได้ทั้งค่าบวก และค่าลบ\n",
    "\n",
    "เช่น  -10, 0, 2, 230, 10202020 "
   ]
  },
  {
   "cell_type": "code",
   "execution_count": null,
   "id": "0575839d",
   "metadata": {},
   "outputs": [],
   "source": [
    "weight1 = 70\n",
    "height1 = 175"
   ]
  },
  {
   "cell_type": "code",
   "execution_count": null,
   "id": "f91bce34",
   "metadata": {},
   "outputs": [],
   "source": [
    "type(weight1)"
   ]
  },
  {
   "cell_type": "code",
   "execution_count": null,
   "id": "2b8bfec4",
   "metadata": {},
   "outputs": [],
   "source": [
    "print(weight1)\n",
    "print(height1)"
   ]
  },
  {
   "cell_type": "markdown",
   "id": "734dcec1",
   "metadata": {},
   "source": [
    "#### ตัวเลขทศนิยม (Float)\n",
    "\n",
    "คือตัวเลขที่มีจุดทศนิยม เป็นได้ทั้งค่าบวก และค่าลบ เช่นเดียวกับ Integer\n",
    "\n",
    "เช่น  -10.1, 0.28, 2.322, 230.2322, 10202020.0 "
   ]
  },
  {
   "cell_type": "code",
   "execution_count": null,
   "id": "447405ce",
   "metadata": {},
   "outputs": [],
   "source": [
    "weight2 = 70.12\n",
    "type(weight2)"
   ]
  },
  {
   "cell_type": "code",
   "execution_count": null,
   "id": "6be62dfa",
   "metadata": {},
   "outputs": [],
   "source": [
    "height2 = 175.0\n",
    "type(height2)"
   ]
  },
  {
   "cell_type": "markdown",
   "id": "03652566",
   "metadata": {},
   "source": [
    "ในภาษา Python เราสามารถแปลงตัวแปรชนิด int และ float กลับไปมาได้ด้วยฟังก์ชัน int() และ float()"
   ]
  },
  {
   "cell_type": "code",
   "execution_count": null,
   "id": "b2acc91d",
   "metadata": {},
   "outputs": [],
   "source": [
    "weight2"
   ]
  },
  {
   "cell_type": "code",
   "execution_count": null,
   "id": "5cd35f7d",
   "metadata": {},
   "outputs": [],
   "source": [
    "type(weight2)"
   ]
  },
  {
   "cell_type": "code",
   "execution_count": null,
   "id": "fc485edc",
   "metadata": {},
   "outputs": [],
   "source": [
    "new_weight2 = int(weight2)\n",
    "type(new_weight2)"
   ]
  },
  {
   "cell_type": "code",
   "execution_count": null,
   "id": "0d6c72e4",
   "metadata": {},
   "outputs": [],
   "source": [
    "new_weight2"
   ]
  },
  {
   "cell_type": "markdown",
   "id": "613077c5",
   "metadata": {},
   "source": [
    "และ"
   ]
  },
  {
   "cell_type": "code",
   "execution_count": null,
   "id": "5331bbd2",
   "metadata": {},
   "outputs": [],
   "source": [
    "height1"
   ]
  },
  {
   "cell_type": "code",
   "execution_count": null,
   "id": "9a2bcc05",
   "metadata": {},
   "outputs": [],
   "source": [
    "type(height1)"
   ]
  },
  {
   "cell_type": "code",
   "execution_count": null,
   "id": "62db99e9",
   "metadata": {},
   "outputs": [],
   "source": [
    "new_height1 = float(height1)\n",
    "type(new_height1)"
   ]
  },
  {
   "cell_type": "code",
   "execution_count": null,
   "id": "f2ec38fd",
   "metadata": {},
   "outputs": [],
   "source": [
    "new_height1"
   ]
  },
  {
   "cell_type": "markdown",
   "id": "06ed9b9e",
   "metadata": {},
   "source": [
    "#### ข้อความ (String)\n",
    "\n",
    "คือ ข้อมูลที่มีตัวอักษร ทั้งภาษาอังกฤษ ภาษาไทย หรืออื่นๆ รวมทั้งเครื่องหมายอื่น (เช่น ! @ # %) และตัวเลขด้วย\n",
    "\n",
    "การกำหนดค่าข้อความ ต้องมีเครื่องหมาย ' หรือ \" ครอบข้อความไว้"
   ]
  },
  {
   "cell_type": "code",
   "execution_count": null,
   "id": "1131dc3e",
   "metadata": {},
   "outputs": [],
   "source": [
    "doe = \"INCD\""
   ]
  },
  {
   "cell_type": "code",
   "execution_count": null,
   "id": "5a7f2d2e",
   "metadata": {},
   "outputs": [],
   "source": [
    "type(doe)"
   ]
  },
  {
   "cell_type": "code",
   "execution_count": null,
   "id": "4d6334f9",
   "metadata": {},
   "outputs": [],
   "source": [
    "doe = incd"
   ]
  },
  {
   "cell_type": "code",
   "execution_count": null,
   "id": "f8d15d32",
   "metadata": {},
   "outputs": [],
   "source": [
    "number = '1234'\n",
    "type(number)"
   ]
  },
  {
   "cell_type": "code",
   "execution_count": null,
   "id": "afa89480",
   "metadata": {},
   "outputs": [],
   "source": [
    "number2 = 1234\n",
    "type(number2)"
   ]
  },
  {
   "cell_type": "markdown",
   "id": "0aa8006f",
   "metadata": {},
   "source": [
    "สามารถแปลงข้อความเป็นตัวเลข หรือแปลงตัวเลขเป็นข้อความได้ ด้วยฟังก์ชั่น int(), float() หรือ str()"
   ]
  },
  {
   "cell_type": "markdown",
   "id": "b63e7ece",
   "metadata": {},
   "source": [
    "การแปลงข้อความเป็นตัวเลข"
   ]
  },
  {
   "cell_type": "code",
   "execution_count": null,
   "id": "827ad9e2",
   "metadata": {},
   "outputs": [],
   "source": [
    "number"
   ]
  },
  {
   "cell_type": "code",
   "execution_count": null,
   "id": "d4c214c0",
   "metadata": {},
   "outputs": [],
   "source": [
    "type(number)"
   ]
  },
  {
   "cell_type": "code",
   "execution_count": null,
   "id": "4bfbba91",
   "metadata": {},
   "outputs": [],
   "source": [
    "int(number)"
   ]
  },
  {
   "cell_type": "code",
   "execution_count": null,
   "id": "aa7ccda3",
   "metadata": {},
   "outputs": [],
   "source": [
    "type(int(number))"
   ]
  },
  {
   "cell_type": "markdown",
   "id": "40b005df",
   "metadata": {},
   "source": [
    "การแปลงตัวเลขเป็นข้อความ"
   ]
  },
  {
   "cell_type": "code",
   "execution_count": null,
   "id": "e8773fad",
   "metadata": {},
   "outputs": [],
   "source": [
    "weight"
   ]
  },
  {
   "cell_type": "code",
   "execution_count": null,
   "id": "ac5ffb4b",
   "metadata": {},
   "outputs": [],
   "source": [
    "type(weight)"
   ]
  },
  {
   "cell_type": "code",
   "execution_count": null,
   "id": "22db2032",
   "metadata": {},
   "outputs": [],
   "source": [
    "str(weight)"
   ]
  },
  {
   "cell_type": "code",
   "execution_count": null,
   "id": "d0f80f50",
   "metadata": {},
   "outputs": [],
   "source": [
    "type(str(weight))"
   ]
  },
  {
   "cell_type": "markdown",
   "id": "92a6c617",
   "metadata": {},
   "source": [
    "#### Boolean\n",
    "\n",
    "คือ ข้อมูลทางตรรกศาสตร์ ใช้แทน ความจริง (True) หรือ ความเท็จ (False)"
   ]
  },
  {
   "cell_type": "code",
   "execution_count": null,
   "id": "076fda11",
   "metadata": {},
   "outputs": [],
   "source": [
    "True"
   ]
  },
  {
   "cell_type": "code",
   "execution_count": null,
   "id": "9c0a97ab",
   "metadata": {},
   "outputs": [],
   "source": [
    "False"
   ]
  },
  {
   "cell_type": "code",
   "execution_count": null,
   "id": "b4c3c9e5",
   "metadata": {},
   "outputs": [],
   "source": [
    "type(True)"
   ]
  },
  {
   "cell_type": "code",
   "execution_count": null,
   "id": "105b6193",
   "metadata": {},
   "outputs": [],
   "source": [
    "5 > 1"
   ]
  },
  {
   "cell_type": "code",
   "execution_count": null,
   "id": "2fa50855",
   "metadata": {},
   "outputs": [],
   "source": [
    "5 > 6"
   ]
  },
  {
   "cell_type": "code",
   "execution_count": null,
   "id": "77292dac",
   "metadata": {},
   "outputs": [],
   "source": [
    "eq = 5 == 5\n",
    "eq"
   ]
  },
  {
   "cell_type": "markdown",
   "id": "2782fa5f",
   "metadata": {},
   "source": [
    "ค่า True หรือ False มักได้มาจากการเปรียบเทียบข้อมูลชนิดอื่นๆ\n",
    "\n",
    "โดยการเปรียบเทียบดังกล่าว สามารถใช้ สัญลักษณ์\n",
    "\n",
    "`==` เท่ากับ\n",
    "\n",
    "`!=` ไม่เท่ากับ\n",
    "\n",
    "`>` มากกว่า\n",
    "\n",
    "`>=` มากกว่าหรือเท่ากับ\n",
    "\n",
    "`<` น้อยกว่า\n",
    "\n",
    "`<=` น้อยกว่าหรือเท่ากับ\n",
    "\n",
    "รวมทั้งตัวดำเนินการทางตรรกศาสตร์\n",
    "\n",
    "`and (&)`\n",
    "\n",
    "`or (|)`"
   ]
  },
  {
   "cell_type": "code",
   "execution_count": null,
   "id": "7aa07f1d",
   "metadata": {},
   "outputs": [],
   "source": [
    "3 == 3"
   ]
  },
  {
   "cell_type": "code",
   "execution_count": null,
   "id": "3468800d",
   "metadata": {},
   "outputs": [],
   "source": [
    "2 == 2"
   ]
  },
  {
   "cell_type": "code",
   "execution_count": null,
   "id": "b62f95da",
   "metadata": {},
   "outputs": [],
   "source": [
    "3 == 3 and 2 == 2"
   ]
  },
  {
   "cell_type": "code",
   "execution_count": null,
   "id": "25a4f86d",
   "metadata": {},
   "outputs": [],
   "source": [
    "(3 == 3) & (2 == 2)"
   ]
  },
  {
   "cell_type": "code",
   "execution_count": null,
   "id": "5a0f2725",
   "metadata": {},
   "outputs": [],
   "source": [
    "2 == 1"
   ]
  },
  {
   "cell_type": "code",
   "execution_count": null,
   "id": "07881f6e",
   "metadata": {},
   "outputs": [],
   "source": [
    "3 == 3 and 2 == 1"
   ]
  },
  {
   "cell_type": "code",
   "execution_count": null,
   "id": "0c5ecf56",
   "metadata": {},
   "outputs": [],
   "source": [
    "3 == 3 or 2 == 1"
   ]
  },
  {
   "cell_type": "code",
   "execution_count": null,
   "id": "f03fb43c",
   "metadata": {},
   "outputs": [],
   "source": [
    "(3 == 3) & (2 == 1)"
   ]
  },
  {
   "cell_type": "code",
   "execution_count": null,
   "id": "317083ba",
   "metadata": {},
   "outputs": [],
   "source": [
    "(3 == 3) | (2 == 1)"
   ]
  },
  {
   "cell_type": "markdown",
   "id": "08b16634",
   "metadata": {},
   "source": [
    "##### การดำเนินการทางคณิตศาสตร์\n",
    "\n"
   ]
  },
  {
   "cell_type": "markdown",
   "id": "6dc29f67",
   "metadata": {},
   "source": [
    "ในภาษา Python การดำเนินการทางคณิตศาสตร์ ประกอบด้วย\n",
    "- บวก (2+1)\n",
    "- ลบ (3-2)\n",
    "- คูณ (4*10)\n",
    "- หาร (24/2)\n",
    "- ยกกำลัง (2**4) 2 ยกกำลัง 4\n",
    "- หารปัดเศษ 10 // 3\n",
    "- หารเอาแต่เศษ 10 % 3"
   ]
  },
  {
   "cell_type": "code",
   "execution_count": null,
   "id": "bffa8bba",
   "metadata": {},
   "outputs": [],
   "source": [
    "2+1"
   ]
  },
  {
   "cell_type": "code",
   "execution_count": null,
   "id": "c9bca4ba",
   "metadata": {},
   "outputs": [],
   "source": [
    "3-2"
   ]
  },
  {
   "cell_type": "code",
   "execution_count": null,
   "id": "71c19b55",
   "metadata": {},
   "outputs": [],
   "source": [
    "4*10"
   ]
  },
  {
   "cell_type": "code",
   "execution_count": null,
   "id": "e9f07a20",
   "metadata": {},
   "outputs": [],
   "source": [
    "24/2"
   ]
  },
  {
   "cell_type": "code",
   "execution_count": null,
   "id": "586d3b38",
   "metadata": {},
   "outputs": [],
   "source": [
    "2**4"
   ]
  },
  {
   "cell_type": "code",
   "execution_count": null,
   "id": "70257c4b",
   "metadata": {},
   "outputs": [],
   "source": [
    "10 // 3"
   ]
  },
  {
   "cell_type": "code",
   "execution_count": null,
   "id": "d4960b6f",
   "metadata": {},
   "outputs": [],
   "source": [
    "10 % 3"
   ]
  },
  {
   "cell_type": "markdown",
   "id": "cba08ba2",
   "metadata": {},
   "source": [
    "ในการคำนวณทางคณิตศาสตร์ที่ซับซ้อนขึ้น เราจะใช้ไลบรารี (library) ซึ่งเป็นโปรแกรมภาษา Python เสริม\n",
    "\n",
    "เช่น math หรือ numpy ซึ่งเป็นไลบรารีที่ใช้การการคำนวณที่ซับซ้อนขึ้น"
   ]
  },
  {
   "cell_type": "markdown",
   "id": "cc59cf2d",
   "metadata": {},
   "source": [
    "เนื่องจากการโปรแกรม Python โดยปกติจะไม่มีไลบรารีเพิ่มเติมมาให้\n",
    "\n",
    "เราจึงต้องทำการ import ไลบรารีที่ต้องการใช้เข้ามาก่อน"
   ]
  },
  {
   "cell_type": "code",
   "execution_count": null,
   "id": "46accff2",
   "metadata": {},
   "outputs": [],
   "source": [
    "import math"
   ]
  },
  {
   "cell_type": "code",
   "execution_count": null,
   "id": "ce498688",
   "metadata": {},
   "outputs": [],
   "source": [
    "# หา squared root\n",
    "math.sqrt(2)"
   ]
  },
  {
   "cell_type": "code",
   "execution_count": null,
   "id": "b9a0ab42",
   "metadata": {},
   "outputs": [],
   "source": [
    "# หา natural logarithm\n",
    "math.log(2)"
   ]
  },
  {
   "cell_type": "code",
   "execution_count": null,
   "id": "c4e2e389",
   "metadata": {},
   "outputs": [],
   "source": [
    "# หาค่ายกกำลังฐาน e\n",
    "math.exp(1)"
   ]
  },
  {
   "cell_type": "code",
   "execution_count": null,
   "id": "71b9c469",
   "metadata": {},
   "outputs": [],
   "source": [
    "math.exp(-2)"
   ]
  },
  {
   "cell_type": "code",
   "execution_count": null,
   "id": "9933bd6e",
   "metadata": {},
   "outputs": [],
   "source": [
    "e = math.exp(1)\n",
    "print(e)"
   ]
  },
  {
   "cell_type": "code",
   "execution_count": null,
   "id": "2dd43de7",
   "metadata": {},
   "outputs": [],
   "source": [
    "math.exp(-2)/(math.sqrt(2)**2)"
   ]
  },
  {
   "cell_type": "markdown",
   "id": "0653fe4c",
   "metadata": {},
   "source": [
    "## 3. ชนิดข้อมูลแบบผสม\n",
    " #### - List\n",
    " #### - Dictionary"
   ]
  },
  {
   "cell_type": "markdown",
   "id": "7b0ac8f2",
   "metadata": {},
   "source": [
    "### List\n",
    "\n",
    "ในข้อที่ 2 รูปแบบของข้อมูล เป็นค่าเดียว เช่น ค่าของจำนวนเต็ม หรือค่าของข้อความ\n",
    "\n",
    "ในกรณีที่ต้องการเก็บข้อมูลหลายค่า ในตัวแปรเดียว นิยมเก็บในข้อมูลชนิด List (หรืออาจจะเก็บในรูปแบบของ Tuple ได้)"
   ]
  },
  {
   "cell_type": "markdown",
   "id": "50af1fe3",
   "metadata": {},
   "source": [
    "List เป็นการเก็บกลุ่มของข้อมูลต่างๆ ไว้ด้วยกัน\n",
    "\n",
    "`[1, 2, 3]`\n",
    "\n",
    "`['a', 'b', 'c']`\n",
    "\n",
    "`[1, 2, 3, 'a', 'b', 'c'] `\n",
    "\n",
    "- สามารถเก็บข้อมูลหลายค่า\n",
    "- สามารถเปลี่ยนข้อมูลภายในได้\n",
    "- สามารถเรียกถึงค่าภายในได้ ด้วยการเรียกที่ตำแหน่งของค่านั้นๆ"
   ]
  },
  {
   "cell_type": "code",
   "execution_count": null,
   "id": "dd002f45",
   "metadata": {},
   "outputs": [],
   "source": [
    "l = ['first',1,1,2,3,4,5,8,8,'last']"
   ]
  },
  {
   "cell_type": "code",
   "execution_count": null,
   "id": "ffc501b5",
   "metadata": {},
   "outputs": [],
   "source": [
    "l"
   ]
  },
  {
   "cell_type": "code",
   "execution_count": null,
   "id": "b8cfbb04",
   "metadata": {},
   "outputs": [],
   "source": [
    "type(l)"
   ]
  },
  {
   "cell_type": "code",
   "execution_count": null,
   "id": "85c3c3be",
   "metadata": {},
   "outputs": [],
   "source": [
    "# เรียกค่าแรก 'first' ของ List l\n",
    "\n",
    "l[0]"
   ]
  },
  {
   "cell_type": "code",
   "execution_count": null,
   "id": "492e6eac",
   "metadata": {},
   "outputs": [],
   "source": [
    "# เรียกค่าสุดท้าย 'last' ของ List l\n",
    "\n",
    "l[-1]"
   ]
  },
  {
   "cell_type": "code",
   "execution_count": null,
   "id": "5b8d2fe6",
   "metadata": {
    "scrolled": true
   },
   "outputs": [],
   "source": [
    "l[9]"
   ]
  },
  {
   "cell_type": "markdown",
   "id": "01255db4",
   "metadata": {},
   "source": [
    "เราสามารถเปลี่ยนค่าภายใน List ได้ด้วยการเรียกตำแหน่งของค่านั้นๆ"
   ]
  },
  {
   "cell_type": "code",
   "execution_count": null,
   "id": "58f9a124",
   "metadata": {},
   "outputs": [],
   "source": [
    "# เปลี่ยนค่าตำแหน่งที่ 2 ([1]) ภายใน List l \n",
    "# เปลี่ยนจาก 1 เป็น 'second'\n",
    "\n",
    "l"
   ]
  },
  {
   "cell_type": "code",
   "execution_count": null,
   "id": "29c9de3e",
   "metadata": {},
   "outputs": [],
   "source": [
    "l[1]"
   ]
  },
  {
   "cell_type": "code",
   "execution_count": null,
   "id": "53ecfcfa",
   "metadata": {},
   "outputs": [],
   "source": [
    "l[1] = 'second'"
   ]
  },
  {
   "cell_type": "code",
   "execution_count": null,
   "id": "3f8ca1d0",
   "metadata": {},
   "outputs": [],
   "source": [
    "l"
   ]
  },
  {
   "cell_type": "markdown",
   "id": "cf35654c",
   "metadata": {},
   "source": [
    "นอกจากนี้ เรายังสามารถสร้าง List ใหม่ ที่เป็น subset ของ List เดิมได้\n",
    "\n",
    "(เรียกว่า list subsetting)"
   ]
  },
  {
   "cell_type": "code",
   "execution_count": null,
   "id": "5d5ebf89",
   "metadata": {},
   "outputs": [],
   "source": [
    "l"
   ]
  },
  {
   "cell_type": "code",
   "execution_count": null,
   "id": "94abf2a3",
   "metadata": {},
   "outputs": [],
   "source": [
    "l[0:2]"
   ]
  },
  {
   "cell_type": "code",
   "execution_count": null,
   "id": "db575e66",
   "metadata": {},
   "outputs": [],
   "source": [
    "l[:2]"
   ]
  },
  {
   "cell_type": "code",
   "execution_count": null,
   "id": "027494bf",
   "metadata": {},
   "outputs": [],
   "source": [
    "l[-1:]"
   ]
  },
  {
   "cell_type": "code",
   "execution_count": null,
   "id": "2ab9cbcc",
   "metadata": {},
   "outputs": [],
   "source": [
    "l[-3:]"
   ]
  },
  {
   "cell_type": "code",
   "execution_count": null,
   "id": "c5197fb5",
   "metadata": {},
   "outputs": [],
   "source": [
    "l[-3:-1]"
   ]
  },
  {
   "cell_type": "code",
   "execution_count": null,
   "id": "06d1d975",
   "metadata": {},
   "outputs": [],
   "source": [
    "l[2:5]"
   ]
  },
  {
   "cell_type": "markdown",
   "id": "a1f4b49f",
   "metadata": {},
   "source": [
    "List สามารถนำมาซ้อนภายใน List ได้"
   ]
  },
  {
   "cell_type": "code",
   "execution_count": null,
   "id": "1907e924",
   "metadata": {},
   "outputs": [],
   "source": [
    "[[1,2,3], [4,5,6], [7,8,9]]"
   ]
  },
  {
   "cell_type": "code",
   "execution_count": null,
   "id": "12d469e8",
   "metadata": {},
   "outputs": [],
   "source": [
    "[1, 2, 3, [4, 5], [6], [[7 ,8], 9]]"
   ]
  },
  {
   "cell_type": "markdown",
   "id": "870fa278",
   "metadata": {},
   "source": [
    "### Dictionary\n",
    "\n",
    "การเก็บข้อมูลในรูปแบบของ Dictionary มีลักษณะที่คล้ายกับ List คือเก็บข้อมูลได้หลายๆ ค่า\n",
    "\n",
    "สิ่งที่แตกต่างจาก List คือ Dictionary จะเก็อข้อมูลในรูปแบบของ Key-Value"
   ]
  },
  {
   "cell_type": "markdown",
   "id": "f54ccad6",
   "metadata": {},
   "source": [
    "`{Key1: Value1, Key2: Value2}`"
   ]
  },
  {
   "cell_type": "code",
   "execution_count": null,
   "id": "04738cc9",
   "metadata": {},
   "outputs": [],
   "source": [
    "case = {\"age\": 15, \"gender\": \"M\", \"province\": \"Bangkok\", \"Lab\": \"Detected\"}"
   ]
  },
  {
   "cell_type": "code",
   "execution_count": null,
   "id": "7fdd9ecf",
   "metadata": {},
   "outputs": [],
   "source": [
    "case"
   ]
  },
  {
   "cell_type": "markdown",
   "id": "90140c01",
   "metadata": {},
   "source": [
    "สามารถเรียก List ของค่า keys ของ dictionary ได้จากเมธอด keys\n",
    "\n",
    "และสามารถเรียก List ของค่า values ของ dictionary ได้จากเมธอด values"
   ]
  },
  {
   "cell_type": "code",
   "execution_count": null,
   "id": "2ef1c940",
   "metadata": {},
   "outputs": [],
   "source": [
    "case.keys()"
   ]
  },
  {
   "cell_type": "code",
   "execution_count": null,
   "id": "14cfea68",
   "metadata": {},
   "outputs": [],
   "source": [
    "case.values()"
   ]
  },
  {
   "cell_type": "markdown",
   "id": "cb8cb79c",
   "metadata": {},
   "source": [
    "เราสามารถเรียกค่า (value) ของ dictionary ผ่าน key ได้"
   ]
  },
  {
   "cell_type": "code",
   "execution_count": null,
   "id": "b90b069b",
   "metadata": {},
   "outputs": [],
   "source": [
    "case"
   ]
  },
  {
   "cell_type": "code",
   "execution_count": null,
   "id": "4f983be5",
   "metadata": {},
   "outputs": [],
   "source": [
    "case['age']"
   ]
  },
  {
   "cell_type": "code",
   "execution_count": null,
   "id": "a7a3ddab",
   "metadata": {},
   "outputs": [],
   "source": [
    "case['gender']"
   ]
  },
  {
   "cell_type": "code",
   "execution_count": null,
   "id": "c45212fd",
   "metadata": {},
   "outputs": [],
   "source": [
    "case['province']"
   ]
  },
  {
   "cell_type": "code",
   "execution_count": null,
   "id": "2316fbd1",
   "metadata": {},
   "outputs": [],
   "source": [
    "case['Lab']"
   ]
  },
  {
   "cell_type": "markdown",
   "id": "8fecc322",
   "metadata": {},
   "source": [
    "สามารถเปลี่ยนแปลงค่าต่างๆ ภายใน dictionary เช่นเดียวกัน list (ผ่าน key)"
   ]
  },
  {
   "cell_type": "code",
   "execution_count": null,
   "id": "d2490aa0",
   "metadata": {},
   "outputs": [],
   "source": [
    "# เปลี่ยนค่า อายุ (age) จาก 15 เป็น 20\n",
    "case['age'] = 20"
   ]
  },
  {
   "cell_type": "code",
   "execution_count": null,
   "id": "76c0b046",
   "metadata": {},
   "outputs": [],
   "source": [
    "case"
   ]
  },
  {
   "cell_type": "markdown",
   "id": "a4955f26",
   "metadata": {},
   "source": [
    "## 4. การตรวจสอบเงื่อนไข (condition statements)\n",
    "\n"
   ]
  },
  {
   "cell_type": "markdown",
   "id": "68a44fbe",
   "metadata": {},
   "source": [
    "การตรวจสอบเงื่อนไข เป็นการเขียนโปรแกรมให้คอมพิวเตอร์ ทำการตรวจสอบเงื่อนไข ว่าเป็นจริงหรือเท็จ\n",
    "\n",
    "หลังจากนั้นจึงกำหนดให้คอมพิวเตอร์ ดำเนินการตามเงื่อนไขที่ตั้งใจ"
   ]
  },
  {
   "cell_type": "markdown",
   "id": "79fd5f7b",
   "metadata": {},
   "source": [
    "คำสั่งในการตรวจสอบเงื่อนไข โดยพื้นฐาน คือ \n",
    "- if ... \n",
    "- if ... else ..."
   ]
  },
  {
   "cell_type": "code",
   "execution_count": null,
   "id": "ebd6098b",
   "metadata": {},
   "outputs": [],
   "source": [
    "if 1 == 1:\n",
    "    # ในกรณที่ 1 = 1 จะดำเนินการ print(\"1 = 1\")\n",
    "    print(\"1 = 1\")"
   ]
  },
  {
   "cell_type": "code",
   "execution_count": null,
   "id": "68106dc4",
   "metadata": {},
   "outputs": [],
   "source": [
    "if 1 == 2:\n",
    "    # ในกรณีที่ 1 = 2 จะดำเนินการ print(\"1 = 2\")\n",
    "    print(\"1 = 2\") "
   ]
  },
  {
   "cell_type": "code",
   "execution_count": null,
   "id": "4e6443e3",
   "metadata": {},
   "outputs": [],
   "source": [
    "if 1 == 1:\n",
    "    # ดำเนินการเมื่อ 1 == 1 เป็นจริง\n",
    "    print(\"1 = 1\") \n",
    "else: \n",
    "    # ดำเนินการเมื่อ 1 == 1 เป็นเท็จ\n",
    "    print(\"1 != 1\") "
   ]
  },
  {
   "cell_type": "code",
   "execution_count": null,
   "id": "a8ca0cb9",
   "metadata": {},
   "outputs": [],
   "source": [
    "if 3 < 2:\n",
    "    # ดำเนินการเมื่อ 3 < 2 เป็นจริง\n",
    "    print(\"3 < 2\") \n",
    "else:\n",
    "    # ดำเนินการเมื่อ 3 < 2 เป็นเท็จ\n",
    "    print(\"3 >= 2\")"
   ]
  },
  {
   "cell_type": "code",
   "execution_count": null,
   "id": "99f8ee6a",
   "metadata": {},
   "outputs": [],
   "source": [
    "a = 1\n",
    "b = 2\n",
    "c = 3\n",
    "d = 4"
   ]
  },
  {
   "cell_type": "code",
   "execution_count": null,
   "id": "0f125e26",
   "metadata": {},
   "outputs": [],
   "source": [
    "a < b"
   ]
  },
  {
   "cell_type": "code",
   "execution_count": null,
   "id": "d0ef29e5",
   "metadata": {},
   "outputs": [],
   "source": [
    "d > c"
   ]
  },
  {
   "cell_type": "code",
   "execution_count": null,
   "id": "49eb8c07",
   "metadata": {},
   "outputs": [],
   "source": [
    "if a < b and d > c:\n",
    "    print(1)\n",
    "else:\n",
    "    print(0)"
   ]
  },
  {
   "cell_type": "code",
   "execution_count": 158,
   "id": "d31830ba",
   "metadata": {},
   "outputs": [
    {
     "data": {
      "text/plain": [
       "False"
      ]
     },
     "execution_count": 158,
     "metadata": {},
     "output_type": "execute_result"
    }
   ],
   "source": [
    "a > b"
   ]
  },
  {
   "cell_type": "code",
   "execution_count": 159,
   "id": "af8a131d",
   "metadata": {},
   "outputs": [
    {
     "data": {
      "text/plain": [
       "True"
      ]
     },
     "execution_count": 159,
     "metadata": {},
     "output_type": "execute_result"
    }
   ],
   "source": [
    "a < c"
   ]
  },
  {
   "cell_type": "code",
   "execution_count": 160,
   "id": "3cff8c1c",
   "metadata": {},
   "outputs": [
    {
     "name": "stdout",
     "output_type": "stream",
     "text": [
      "0\n"
     ]
    }
   ],
   "source": [
    "if a > b and a < c:\n",
    "    print(1)\n",
    "else:\n",
    "    print(0)"
   ]
  },
  {
   "cell_type": "markdown",
   "id": "654568b1",
   "metadata": {},
   "source": [
    "## 5 การทำซ้ำ (Loops)\n",
    "\n",
    "การทำซ้ำ คือการเขียนโปรแกรมให้คอมเตอร์ดำเนินการซ้ำๆ กัน ตามที่กำหนด\n",
    "\n",
    "การทำซ้ำมีประโยชน์สูง ในกรณีที่ต้องการเขียนโปรแกรมให้คอมพิวเตอร์ดำเนินการซ้ำๆ กัน ตามจำนวนครั้งที่กำหนด และมีรูปแบบที่ชัดเจน"
   ]
  },
  {
   "cell_type": "markdown",
   "id": "02a2bf60",
   "metadata": {},
   "source": [
    "คำสั่งการทำซ้ำ ที่ใช้บ่อย คือ for และ while"
   ]
  },
  {
   "cell_type": "code",
   "execution_count": 161,
   "id": "a8fcf114",
   "metadata": {},
   "outputs": [
    {
     "name": "stdout",
     "output_type": "stream",
     "text": [
      "1\n",
      "2\n",
      "3\n"
     ]
    }
   ],
   "source": [
    "for i in [1,2,3]:\n",
    "    print(i)"
   ]
  },
  {
   "cell_type": "code",
   "execution_count": 162,
   "id": "6eb45d9e",
   "metadata": {},
   "outputs": [
    {
     "name": "stdout",
     "output_type": "stream",
     "text": [
      "10\n",
      "20\n",
      "30\n"
     ]
    }
   ],
   "source": [
    "for i in [1,2,3]:\n",
    "    print(i*10)"
   ]
  },
  {
   "cell_type": "markdown",
   "id": "b720130e",
   "metadata": {},
   "source": [
    "เราสามารถใช้ฟังก์ชัน range() เพื่อสร้าง List ของตัวเลขจำนวนเต็มที่เรียงต่อกันได้"
   ]
  },
  {
   "cell_type": "code",
   "execution_count": 163,
   "id": "e976824d",
   "metadata": {},
   "outputs": [
    {
     "name": "stdout",
     "output_type": "stream",
     "text": [
      "0\n",
      "1\n",
      "2\n",
      "3\n",
      "4\n",
      "5\n",
      "6\n",
      "7\n",
      "8\n",
      "9\n",
      "10\n",
      "11\n",
      "12\n",
      "13\n",
      "14\n",
      "15\n",
      "16\n",
      "17\n",
      "18\n",
      "19\n"
     ]
    }
   ],
   "source": [
    "for i in range(20):\n",
    "    print(i)"
   ]
  },
  {
   "cell_type": "code",
   "execution_count": 164,
   "id": "48073d4c",
   "metadata": {},
   "outputs": [
    {
     "name": "stdout",
     "output_type": "stream",
     "text": [
      "0\n",
      "2\n",
      "4\n",
      "6\n",
      "8\n",
      "10\n",
      "12\n",
      "14\n",
      "16\n",
      "18\n"
     ]
    }
   ],
   "source": [
    "for i in range(20):\n",
    "    if i % 2 == 0:\n",
    "        print(i)"
   ]
  },
  {
   "cell_type": "markdown",
   "id": "5fc7200a",
   "metadata": {},
   "source": [
    "เราสามารถใช้คำสัง for ในการสร้าง List ขึ้นมาได้"
   ]
  },
  {
   "cell_type": "code",
   "execution_count": 180,
   "id": "1d7fe726",
   "metadata": {},
   "outputs": [
    {
     "name": "stdout",
     "output_type": "stream",
     "text": [
      "0 []\n",
      "1 [1]\n",
      "2 [1]\n",
      "3 [1, 3]\n",
      "4 [1, 3]\n",
      "5 [1, 3, 5]\n",
      "6 [1, 3, 5]\n",
      "7 [1, 3, 5, 7]\n",
      "8 [1, 3, 5, 7]\n",
      "9 [1, 3, 5, 7, 9]\n"
     ]
    }
   ],
   "source": [
    "# สร้าง List mylist ที่มีค่าว่าง\n",
    "mylist = []\n",
    "\n",
    "for i in range(10):\n",
    "    if i % 2 != 0:\n",
    "        mylist.append(i)\n",
    "    print(i, mylist)"
   ]
  }
 ],
 "metadata": {
  "kernelspec": {
   "display_name": "Python 3 (ipykernel)",
   "language": "python",
   "name": "python3"
  },
  "language_info": {
   "codemirror_mode": {
    "name": "ipython",
    "version": 3
   },
   "file_extension": ".py",
   "mimetype": "text/x-python",
   "name": "python",
   "nbconvert_exporter": "python",
   "pygments_lexer": "ipython3",
   "version": "3.8.0"
  }
 },
 "nbformat": 4,
 "nbformat_minor": 5
}
